{
 "cells": [
  {
   "cell_type": "code",
   "execution_count": 1,
   "id": "10464839-8765-4460-aa4b-929359b5391d",
   "metadata": {},
   "outputs": [],
   "source": [
    "import numpy as np\n",
    "import pandas as pd\n",
    "from sklearn.model_selection import train_test_split, cross_val_score\n",
    "from sklearn.linear_model import LogisticRegression\n",
    "from sklearn.preprocessing import StandardScaler\n",
    "from sklearn.pipeline import Pipeline"
   ]
  },
  {
   "cell_type": "code",
   "execution_count": 2,
   "id": "c1a7d301-413a-4c8d-8361-a185b536cde3",
   "metadata": {},
   "outputs": [],
   "source": [
    "data = pd.read_csv(\"/Users/ronnitrana/ACSEF/glioma-grading/data/Firebrowse/preprocessed_dataset.csv\")\n",
    "data_randomized = data.sample(frac=1, random_state=42)\n",
    "\n",
    "X = data_randomized.drop('classification', axis=1)\n",
    "y = data_randomized['classification']\n",
    "\n",
    "X_train, X_test, y_train, y_test = train_test_split(X, y, test_size=0.2)"
   ]
  },
  {
   "cell_type": "code",
   "execution_count": 3,
   "id": "1f8c4a9d-ee8e-4e9b-8931-4b9ed41c54f5",
   "metadata": {},
   "outputs": [],
   "source": [
    "logreg_pipe = Pipeline([\n",
    "    ('scaler', StandardScaler()),\n",
    "    ('logreg', LogisticRegression(random_state=42, max_iter=1000))\n",
    "])"
   ]
  },
  {
   "cell_type": "code",
   "execution_count": 4,
   "id": "49016731-0c67-4adc-ade2-84c4eb9ece79",
   "metadata": {},
   "outputs": [
    {
     "name": "stdout",
     "output_type": "stream",
     "text": [
      "Average score for Logistic Regression: 0.9732142857142858\n"
     ]
    }
   ],
   "source": [
    "scores = cross_val_score(logreg_pipe, X_train, y_train, cv=5)\n",
    "avg_score = np.mean(scores)\n",
    "\n",
    "print(f'Average score for Logistic Regression: {avg_score}')"
   ]
  }
 ],
 "metadata": {
  "kernelspec": {
   "display_name": "Python 3 (ipykernel)",
   "language": "python",
   "name": "python3"
  },
  "language_info": {
   "codemirror_mode": {
    "name": "ipython",
    "version": 3
   },
   "file_extension": ".py",
   "mimetype": "text/x-python",
   "name": "python",
   "nbconvert_exporter": "python",
   "pygments_lexer": "ipython3",
   "version": "3.11.7"
  }
 },
 "nbformat": 4,
 "nbformat_minor": 5
}
