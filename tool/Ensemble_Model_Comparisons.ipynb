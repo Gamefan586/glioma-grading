{
 "cells": [
  {
   "cell_type": "code",
   "execution_count": 5,
   "id": "8ad645da-5620-4bd4-9124-7343189f31e1",
   "metadata": {},
   "outputs": [],
   "source": [
    "import numpy as np\n",
    "import pandas as pd\n",
    "from sklearn.model_selection import train_test_split, cross_val_score\n",
    "from sklearn.linear_model import LogisticRegression\n",
    "from sklearn.svm import SVC\n",
    "from sklearn.neighbors import KNeighborsClassifier\n",
    "from sklearn.ensemble import RandomForestClassifier, AdaBoostClassifier, VotingClassifier\n",
    "from xverse.ensemble import VotingSelector\n",
    "from sklearn.preprocessing import StandardScaler\n",
    "from sklearn.pipeline import make_pipeline"
   ]
  },
  {
   "cell_type": "code",
   "execution_count": 7,
   "id": "14695d58-490c-476d-9a33-54fadeeb9f74",
   "metadata": {},
   "outputs": [],
   "source": [
    "data = pd.read_csv(\"/Users/ronnitrana/ACSEF/Datasets/UCI/TCGA_InfoWithGrade.csv\")\n",
    "data_randomized = data.sample(frac=1)\n",
    "\n",
    "X = data_randomized.drop('Grade', axis=1)\n",
    "y = data_randomized['Grade']\n",
    "\n",
    "X_train, X_test, y_train, y_test = train_test_split(X, y, test_size=0.2)"
   ]
  },
  {
   "cell_type": "code",
   "execution_count": null,
   "id": "b9b7bbd5-a40b-44d5-8ca3-9463aaf37c3d",
   "metadata": {},
   "outputs": [],
   "source": []
  }
 ],
 "metadata": {
  "kernelspec": {
   "display_name": "Python 3 (ipykernel)",
   "language": "python",
   "name": "python3"
  },
  "language_info": {
   "codemirror_mode": {
    "name": "ipython",
    "version": 3
   },
   "file_extension": ".py",
   "mimetype": "text/x-python",
   "name": "python",
   "nbconvert_exporter": "python",
   "pygments_lexer": "ipython3",
   "version": "3.11.7"
  }
 },
 "nbformat": 4,
 "nbformat_minor": 5
}
