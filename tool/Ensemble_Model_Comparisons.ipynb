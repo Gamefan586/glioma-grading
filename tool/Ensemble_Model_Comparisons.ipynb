{
 "cells": [
  {
   "cell_type": "code",
   "execution_count": null,
   "id": "8ad645da-5620-4bd4-9124-7343189f31e1",
   "metadata": {},
   "outputs": [],
   "source": [
    "import numpy as np\n",
    "import pandas as pd\n",
    "from sklearn.model_selection import train_test_split, cross_val_score\n",
    "from sklearn.linear_model import LogisticRegression\n",
    "from sklearn.svm import SVC\n",
    "from sklearn.neighbors import KNeighborsClassifier\n",
    "from sklearn.ensemble import RandomForestClassifier, AdaBoostClassifier, VotingClassifier\n",
    "from xverse.ensemble import VotingSelector\n",
    "from sklearn.metrics import accuracy_score\n",
    "from sklearn.preprocessing import StandardScaler\n",
    "from sklearn.pipeline import Pipeline"
   ]
  },
  {
   "cell_type": "code",
   "execution_count": null,
   "id": "14695d58-490c-476d-9a33-54fadeeb9f74",
   "metadata": {},
   "outputs": [],
   "source": [
    "data = pd.read_csv(\"/Users/ronnitrana/ACSEF/glioma-grading/data/UCI/TCGA_InfoWithGrade.csv\")\n",
    "data_randomized = data.sample(frac=1, random_state=42)\n",
    "\n",
    "X = data_randomized.drop('Grade', axis=1)\n",
    "y = data_randomized['Grade']\n",
    "\n",
    "X_train, X_test, y_train, y_test = train_test_split(X, y, test_size=0.2)"
   ]
  },
  {
   "cell_type": "code",
   "execution_count": null,
   "id": "b9b7bbd5-a40b-44d5-8ca3-9463aaf37c3d",
   "metadata": {},
   "outputs": [],
   "source": [
    "logreg_pipe = Pipeline([('scaler', StandardScaler()), ('logreg', LogisticRegression(random_state=42, max_iter=1000))])\n",
    "svm_pipe = Pipeline([('scaler', StandardScaler()), ('svm', SVC(probability=True, random_state=42))])\n",
    "knn_pipe = Pipeline([('scaler', StandardScaler()), ('knn', KNeighborsClassifier())])\n",
    "rf_pipe = Pipeline([('scaler', StandardScaler()), ('rf', RandomForestClassifier(random_state=42))])\n",
    "ada_pipe = Pipeline([('scaler', StandardScaler()), ('ada', AdaBoostClassifier(random_state=42))])\n",
    "\n",
    "ensembles = {\n",
    "    'LR_SVM_KNN': VotingClassifier(estimators=[('lr', logreg_pipe), ('svm', svm_pipe), ('knn', knn_pipe)], voting='soft'),\n",
    "    'LR_SVM_RF': VotingClassifier(estimators=[('lr', logreg_pipe), ('svm', svm_pipe), ('rf', rf_pipe)], voting='soft'),\n",
    "    'LR_SVM_ADA': VotingClassifier(estimators=[('lr', logreg_pipe), ('svm', svm_pipe), ('ada', ada_pipe)], voting='soft'),\n",
    "    'LR_KNN_RF': VotingClassifier(estimators=[('lr', logreg_pipe), ('knn', knn_pipe), ('rf', rf_pipe)], voting='soft'),\n",
    "    'LR_KNN_ADA': VotingClassifier(estimators=[('lr', logreg_pipe), ('knn', knn_pipe), ('ada', ada_pipe)], voting='soft'),\n",
    "    'LR_RF_ADA': VotingClassifier(estimators=[('lr', logreg_pipe), ('rf', rf_pipe), ('ada', ada_pipe)], voting='soft'),\n",
    "    'SVM_KNN_RF': VotingClassifier(estimators=[('svm', svm_pipe), ('knn', knn_pipe), ('rf', rf_pipe)], voting='soft'),\n",
    "    'SVM_KNN_ADA': VotingClassifier(estimators=[('svm', svm_pipe), ('knn', knn_pipe), ('ada', ada_pipe)], voting='soft'),\n",
    "    'SVM_RF_ADA': VotingClassifier(estimators=[('svm', svm_pipe), ('rf', rf_pipe), ('ada', ada_pipe)], voting='soft'),\n",
    "    'KNN_RF_ADA': VotingClassifier(estimators=[('knn', knn_pipe), ('rf', rf_pipe), ('ada', ada_pipe)], voting='soft'),\n",
    "    'LR_SVM_KNN_RF': VotingClassifier(estimators=[('lr', logreg_pipe), ('svm', svm_pipe), ('knn', knn_pipe), ('rf', rf_pipe)], voting='soft'),\n",
    "    'LR_SVM_KNN_ADA': VotingClassifier(estimators=[('lr', logreg_pipe), ('svm', svm_pipe), ('knn', knn_pipe), ('ada', ada_pipe)], voting='soft'),\n",
    "    'LR_SVM_RF_ADA': VotingClassifier(estimators=[('lr', logreg_pipe), ('svm', svm_pipe), ('rf', rf_pipe), ('ada', ada_pipe)], voting='soft'),\n",
    "    'LR_KNN_RF_ADA': VotingClassifier(estimators=[('lr', logreg_pipe), ('knn', knn_pipe), ('rf', rf_pipe), ('ada', ada_pipe)], voting='soft'),\n",
    "    'SVM_KNN_RF_ADA': VotingClassifier(estimators=[('svm', svm_pipe), ('knn', knn_pipe), ('rf', rf_pipe), ('ada', ada_pipe)], voting='soft'),\n",
    "    'LR_SVM_KNN_RF_ADA': VotingClassifier(estimators=[('lr', logreg_pipe), ('svm', svm_pipe), ('knn', knn_pipe), ('rf', rf_pipe), ('ada', ada_pipe)], voting='soft'),\n",
    "}"
   ]
  },
  {
   "cell_type": "code",
   "execution_count": null,
   "id": "bfde893b-ff43-4634-9c0c-13323cfa98d5",
   "metadata": {
    "scrolled": true
   },
   "outputs": [],
   "source": [
    "def evaluate_ensembles(ensemble, x_data, y_data):\n",
    "    results_values = []\n",
    "    results_print = []\n",
    "    for i, ensemble in enumerate(ensembles.values()):\n",
    "        scores = cross_val_score(ensemble, x_data, y_data, cv=5)\n",
    "        avg_score = np.mean(scores)\n",
    "        results_values.append(avg_score)\n",
    "        results_print.append(f'Average score for ensemble {i+1}: {avg_score}')\n",
    "\n",
    "    return results_values, results_print"
   ]
  },
  {
   "cell_type": "code",
   "execution_count": null,
   "id": "9284e77f-1ee5-4fbb-88bd-37d2dd853da7",
   "metadata": {},
   "outputs": [],
   "source": [
    "trial1_results, trial1_print = evaluate_ensembles(ensembles, X_train, y_train)\n",
    "for score_print in trial1_print:\n",
    "    print(score_print)"
   ]
  }
 ],
 "metadata": {
  "kernelspec": {
   "display_name": "Python 3 (ipykernel)",
   "language": "python",
   "name": "python3"
  },
  "language_info": {
   "codemirror_mode": {
    "name": "ipython",
    "version": 3
   },
   "file_extension": ".py",
   "mimetype": "text/x-python",
   "name": "python",
   "nbconvert_exporter": "python",
   "pygments_lexer": "ipython3",
   "version": "3.11.7"
  }
 },
 "nbformat": 4,
 "nbformat_minor": 5
}
