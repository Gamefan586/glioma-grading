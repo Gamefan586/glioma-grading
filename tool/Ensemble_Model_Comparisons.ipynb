{
 "cells": [
  {
   "cell_type": "code",
   "execution_count": 1,
   "id": "8ad645da-5620-4bd4-9124-7343189f31e1",
   "metadata": {},
   "outputs": [],
   "source": [
    "import numpy as np\n",
    "import pandas as pd\n",
    "from sklearn.model_selection import train_test_split, cross_val_score\n",
    "from sklearn.linear_model import LogisticRegression\n",
    "from sklearn.svm import SVC\n",
    "from sklearn.neighbors import KNeighborsClassifier\n",
    "from sklearn.ensemble import RandomForestClassifier, AdaBoostClassifier, VotingClassifier\n",
    "from xverse.ensemble import VotingSelector\n",
    "from sklearn.metrics import accuracy_score\n",
    "from sklearn.preprocessing import StandardScaler\n",
    "from sklearn.pipeline import Pipeline"
   ]
  },
  {
   "cell_type": "code",
   "execution_count": 2,
   "id": "14695d58-490c-476d-9a33-54fadeeb9f74",
   "metadata": {},
   "outputs": [],
   "source": [
    "data = pd.read_csv(\"/Users/ronnitrana/ACSEF/glioma-grading/data/UCI/TCGA_InfoWithGrade.csv\")\n",
    "data_randomized = data.sample(frac=1, random_state=42)\n",
    "\n",
    "X = data_randomized.drop('Grade', axis=1)\n",
    "y = data_randomized['Grade']\n",
    "\n",
    "X_train, X_test, y_train, y_test = train_test_split(X, y, test_size=0.2)"
   ]
  },
  {
   "cell_type": "code",
   "execution_count": 3,
   "id": "b9b7bbd5-a40b-44d5-8ca3-9463aaf37c3d",
   "metadata": {},
   "outputs": [],
   "source": [
    "logreg_pipe = Pipeline([('scaler', StandardScaler()), ('logreg', LogisticRegression(random_state=42, max_iter=1000))])\n",
    "svm_pipe = Pipeline([('scaler', StandardScaler()), ('svm', SVC(probability=True, random_state=42))])\n",
    "knn_pipe = Pipeline([('scaler', StandardScaler()), ('knn', KNeighborsClassifier())])\n",
    "# For RandomForest and AdaBoost, scaling is not necessary, but included for consistency\n",
    "rf_pipe = Pipeline([('scaler', StandardScaler()), ('rf', RandomForestClassifier(random_state=42))])\n",
    "ada_pipe = Pipeline([('scaler', StandardScaler()), ('ada', AdaBoostClassifier(random_state=42))])"
   ]
  },
  {
   "cell_type": "code",
   "execution_count": 8,
   "id": "bfde893b-ff43-4634-9c0c-13323cfa98d5",
   "metadata": {
    "scrolled": true
   },
   "outputs": [
    {
     "name": "stdout",
     "output_type": "stream",
     "text": [
      "Average score for ensemble 1: 0.8777888336097291\n"
     ]
    }
   ],
   "source": [
    "ensemble = VotingClassifier(estimators=[\n",
    "    ('logreg', logreg_pipe),\n",
    "    ('svm', svm_pipe),\n",
    "    ('knn', knn_pipe)\n",
    "], voting='soft')\n",
    "\n",
    "scores = cross_val_score(ensemble, X_train, y_train, cv=5)\n",
    "avg_score = np.mean(scores)\n",
    "print(f'Average score for ensemble 1: {avg_score}')"
   ]
  },
  {
   "cell_type": "code",
   "execution_count": 9,
   "id": "9284e77f-1ee5-4fbb-88bd-37d2dd853da7",
   "metadata": {},
   "outputs": [
    {
     "name": "stdout",
     "output_type": "stream",
     "text": [
      "Average score for ensemble 2: 0.8807628524046436\n"
     ]
    }
   ],
   "source": [
    "ensemble = VotingClassifier(estimators=[\n",
    "    ('logreg', logreg_pipe),\n",
    "    ('svm', svm_pipe),\n",
    "    ('rf', rf_pipe)\n",
    "], voting='soft')\n",
    "\n",
    "scores = cross_val_score(ensemble, X_train, y_train, cv=5)\n",
    "avg_score = np.mean(scores)\n",
    "print(f'Average score for ensemble 2: {avg_score}')"
   ]
  },
  {
   "cell_type": "code",
   "execution_count": 10,
   "id": "a8edb31d-efb3-4da4-9e3e-f045a641dd12",
   "metadata": {},
   "outputs": [
    {
     "name": "stdout",
     "output_type": "stream",
     "text": [
      "Average score for ensemble 3: 0.8792703150912107\n"
     ]
    }
   ],
   "source": [
    "ensemble = VotingClassifier(estimators=[\n",
    "    ('logreg', logreg_pipe),\n",
    "    ('svm', svm_pipe),\n",
    "    ('ada', ada_pipe)\n",
    "], voting='soft')\n",
    "\n",
    "scores = cross_val_score(ensemble, X_train, y_train, cv=5)\n",
    "avg_score = np.mean(scores)\n",
    "print(f'Average score for ensemble 3: {avg_score}')"
   ]
  },
  {
   "cell_type": "code",
   "execution_count": 11,
   "id": "f062fbd4-f6b8-45b2-b47c-72a1ce6d75c3",
   "metadata": {},
   "outputs": [
    {
     "name": "stdout",
     "output_type": "stream",
     "text": [
      "Average score for ensemble 4: 0.873289110005528\n"
     ]
    }
   ],
   "source": [
    "ensemble = VotingClassifier(estimators=[\n",
    "    ('logreg', logreg_pipe),\n",
    "    ('knn', knn_pipe),\n",
    "    ('rf', rf_pipe)\n",
    "], voting='soft')\n",
    "\n",
    "scores = cross_val_score(ensemble, X_train, y_train, cv=5)\n",
    "avg_score = np.mean(scores)\n",
    "print(f'Average score for ensemble 4: {avg_score}')"
   ]
  },
  {
   "cell_type": "code",
   "execution_count": 12,
   "id": "33a8bb95-1f45-42c2-8cc4-7914a3ad9354",
   "metadata": {},
   "outputs": [
    {
     "name": "stdout",
     "output_type": "stream",
     "text": [
      "Average score for ensemble 5: 0.8718297401879491\n"
     ]
    }
   ],
   "source": [
    "ensemble = VotingClassifier(estimators=[\n",
    "    ('logreg', logreg_pipe),\n",
    "    ('knn', knn_pipe),\n",
    "    ('ada', ada_pipe)\n",
    "], voting='soft')\n",
    "\n",
    "scores = cross_val_score(ensemble, X_train, y_train, cv=5)\n",
    "avg_score = np.mean(scores)\n",
    "print(f'Average score for ensemble 5: {avg_score}')"
   ]
  },
  {
   "cell_type": "code",
   "execution_count": 13,
   "id": "3fcb7366-0e12-460b-b987-af208ad68cdf",
   "metadata": {},
   "outputs": [
    {
     "name": "stdout",
     "output_type": "stream",
     "text": [
      "Average score for ensemble 6: 0.8733112216694308\n"
     ]
    }
   ],
   "source": [
    "ensemble = VotingClassifier(estimators=[\n",
    "    ('logreg', logreg_pipe),\n",
    "    ('rf', rf_pipe),\n",
    "    ('ada', ada_pipe)\n",
    "], voting='soft')\n",
    "\n",
    "scores = cross_val_score(ensemble, X_train, y_train, cv=5)\n",
    "avg_score = np.mean(scores)\n",
    "print(f'Average score for ensemble 6: {avg_score}')"
   ]
  },
  {
   "cell_type": "code",
   "execution_count": 14,
   "id": "4cb3e98f-61da-4d5c-b94c-b4ea2f8325ef",
   "metadata": {},
   "outputs": [
    {
     "name": "stdout",
     "output_type": "stream",
     "text": [
      "Average score for ensemble 7: 0.8718076285240464\n"
     ]
    }
   ],
   "source": [
    "ensemble = VotingClassifier(estimators=[\n",
    "    ('svm', svm_pipe),\n",
    "    ('knn', knn_pipe),\n",
    "    ('rf', rf_pipe)\n",
    "], voting='soft')\n",
    "\n",
    "scores = cross_val_score(ensemble, X_train, y_train, cv=5)\n",
    "avg_score = np.mean(scores)\n",
    "print(f'Average score for ensemble 7: {avg_score}')"
   ]
  },
  {
   "cell_type": "code",
   "execution_count": 15,
   "id": "3c137e4d-c707-456b-8e38-9578e00b97a0",
   "metadata": {},
   "outputs": [
    {
     "name": "stdout",
     "output_type": "stream",
     "text": [
      "Average score for ensemble 8: 0.870326147042565\n"
     ]
    }
   ],
   "source": [
    "ensemble = VotingClassifier(estimators=[\n",
    "    ('svm', svm_pipe),\n",
    "    ('knn', knn_pipe),\n",
    "    ('ada', ada_pipe)\n",
    "], voting='soft')\n",
    "\n",
    "scores = cross_val_score(ensemble, X_train, y_train, cv=5)\n",
    "avg_score = np.mean(scores)\n",
    "print(f'Average score for ensemble 8: {avg_score}')"
   ]
  },
  {
   "cell_type": "code",
   "execution_count": 16,
   "id": "5a0ef15b-1d96-4c71-b681-e8584e6f6905",
   "metadata": {},
   "outputs": [
    {
     "name": "stdout",
     "output_type": "stream",
     "text": [
      "Average score for ensemble 9: 0.8807517965726921\n"
     ]
    }
   ],
   "source": [
    "ensemble = VotingClassifier(estimators=[\n",
    "    ('svm', svm_pipe),\n",
    "    ('rf', rf_pipe),\n",
    "    ('ada', ada_pipe)\n",
    "], voting='soft')\n",
    "\n",
    "scores = cross_val_score(ensemble, X_train, y_train, cv=5)\n",
    "avg_score = np.mean(scores)\n",
    "print(f'Average score for ensemble 9: {avg_score}')"
   ]
  },
  {
   "cell_type": "code",
   "execution_count": 17,
   "id": "688a8828-5c07-4e1e-8e93-f7fbd1bf6e95",
   "metadata": {},
   "outputs": [
    {
     "name": "stdout",
     "output_type": "stream",
     "text": [
      "Average score for ensemble 10: 0.8569043670536208\n"
     ]
    }
   ],
   "source": [
    "ensemble = VotingClassifier(estimators=[\n",
    "    ('knn', knn_pipe),\n",
    "    ('rf', rf_pipe),\n",
    "    ('ada', ada_pipe)\n",
    "], voting='soft')\n",
    "\n",
    "scores = cross_val_score(ensemble, X_train, y_train, cv=5)\n",
    "avg_score = np.mean(scores)\n",
    "print(f'Average score for ensemble 10: {avg_score}')"
   ]
  },
  {
   "cell_type": "code",
   "execution_count": 18,
   "id": "e8be5bf8-6dbf-4e7d-8445-a9240f09d94f",
   "metadata": {},
   "outputs": [
    {
     "name": "stdout",
     "output_type": "stream",
     "text": [
      "Average score for ensemble 11: 0.8807517965726921\n"
     ]
    }
   ],
   "source": [
    "ensemble = VotingClassifier(estimators=[\n",
    "    ('logreg', logreg_pipe),\n",
    "    ('svm', svm_pipe),\n",
    "    ('knn', knn_pipe),\n",
    "    ('rf', rf_pipe)\n",
    "], voting='soft')\n",
    "\n",
    "scores = cross_val_score(ensemble, X_train, y_train, cv=5)\n",
    "avg_score = np.mean(scores)\n",
    "print(f'Average score for ensemble 11: {avg_score}')"
   ]
  },
  {
   "cell_type": "code",
   "execution_count": 19,
   "id": "cd2c1209-64ea-4ec0-8818-75cbf69c0312",
   "metadata": {},
   "outputs": [
    {
     "name": "stdout",
     "output_type": "stream",
     "text": [
      "Average score for ensemble 12: 0.8777888336097291\n"
     ]
    }
   ],
   "source": [
    "ensemble = VotingClassifier(estimators=[\n",
    "    ('logreg', logreg_pipe),\n",
    "    ('svm', svm_pipe),\n",
    "    ('knn', knn_pipe),\n",
    "    ('ada', ada_pipe)\n",
    "], voting='soft')\n",
    "\n",
    "scores = cross_val_score(ensemble, X_train, y_train, cv=5)\n",
    "avg_score = np.mean(scores)\n",
    "print(f'Average score for ensemble 12: {avg_score}')"
   ]
  },
  {
   "cell_type": "code",
   "execution_count": 20,
   "id": "4e205961-d8ea-40fb-8187-5a24561acbf6",
   "metadata": {},
   "outputs": [
    {
     "name": "stdout",
     "output_type": "stream",
     "text": [
      "Average score for ensemble 13: 0.8792813709231619\n"
     ]
    }
   ],
   "source": [
    "ensemble = VotingClassifier(estimators=[\n",
    "    ('logreg', logreg_pipe),\n",
    "    ('svm', svm_pipe),\n",
    "    ('rf', rf_pipe),\n",
    "    ('ada', ada_pipe)\n",
    "], voting='soft')\n",
    "\n",
    "scores = cross_val_score(ensemble, X_train, y_train, cv=5)\n",
    "avg_score = np.mean(scores)\n",
    "print(f'Average score for ensemble 13: {avg_score}')"
   ]
  },
  {
   "cell_type": "code",
   "execution_count": 21,
   "id": "b031968e-05ed-4e64-bca0-7689cf5da8cd",
   "metadata": {},
   "outputs": [
    {
     "name": "stdout",
     "output_type": "stream",
     "text": [
      "Average score for ensemble 14: 0.873289110005528\n"
     ]
    }
   ],
   "source": [
    "ensemble = VotingClassifier(estimators=[\n",
    "    ('logreg', logreg_pipe),\n",
    "    ('knn', knn_pipe),\n",
    "    ('rf', rf_pipe),\n",
    "    ('ada', ada_pipe)\n",
    "], voting='soft')\n",
    "\n",
    "scores = cross_val_score(ensemble, X_train, y_train, cv=5)\n",
    "avg_score = np.mean(scores)\n",
    "print(f'Average score for ensemble 14: {avg_score}')"
   ]
  },
  {
   "cell_type": "code",
   "execution_count": 22,
   "id": "3a3b64a4-7d0f-4b5a-83b4-9bf233e379ff",
   "metadata": {},
   "outputs": [
    {
     "name": "stdout",
     "output_type": "stream",
     "text": [
      "Average score for ensemble 15: 0.8792813709231619\n"
     ]
    }
   ],
   "source": [
    "ensemble = VotingClassifier(estimators=[\n",
    "    ('svm', logreg_pipe),\n",
    "    ('knn', svm_pipe),\n",
    "    ('rf', rf_pipe),\n",
    "    ('ada', ada_pipe)\n",
    "], voting='soft')\n",
    "\n",
    "scores = cross_val_score(ensemble, X_train, y_train, cv=5)\n",
    "avg_score = np.mean(scores)\n",
    "print(f'Average score for ensemble 15: {avg_score}')"
   ]
  },
  {
   "cell_type": "code",
   "execution_count": 25,
   "id": "81965ab4-b638-4889-90bf-7d20ad099d92",
   "metadata": {},
   "outputs": [
    {
     "name": "stdout",
     "output_type": "stream",
     "text": [
      "Average score for ensemble 16: 0.882244333886125\n"
     ]
    }
   ],
   "source": [
    "ensemble = VotingClassifier(estimators=[\n",
    "    ('logreg', logreg_pipe),\n",
    "    ('svm', svm_pipe),\n",
    "    ('knn', knn_pipe),\n",
    "    ('rf', rf_pipe),\n",
    "    ('ada', ada_pipe)\n",
    "], voting='soft')\n",
    "\n",
    "scores = cross_val_score(ensemble, X_train, y_train, cv=5)\n",
    "avg_score = np.mean(scores)\n",
    "print(f'Average score for ensemble 16: {avg_score}')"
   ]
  },
  {
   "cell_type": "code",
   "execution_count": null,
   "id": "caa77943-30c8-47f3-9bbc-95590c2e3610",
   "metadata": {},
   "outputs": [],
   "source": []
  },
  {
   "cell_type": "code",
   "execution_count": null,
   "id": "6b1d0d17-940d-446a-a8a7-80a3879a34d5",
   "metadata": {},
   "outputs": [],
   "source": []
  }
 ],
 "metadata": {
  "kernelspec": {
   "display_name": "Python 3 (ipykernel)",
   "language": "python",
   "name": "python3"
  },
  "language_info": {
   "codemirror_mode": {
    "name": "ipython",
    "version": 3
   },
   "file_extension": ".py",
   "mimetype": "text/x-python",
   "name": "python",
   "nbconvert_exporter": "python",
   "pygments_lexer": "ipython3",
   "version": "3.11.7"
  }
 },
 "nbformat": 4,
 "nbformat_minor": 5
}
