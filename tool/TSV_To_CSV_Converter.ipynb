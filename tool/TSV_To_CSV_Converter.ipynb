{
 "cells": [
  {
   "cell_type": "code",
   "execution_count": 1,
   "id": "a0e8b368-05cd-4a04-856c-f5268c2f50e9",
   "metadata": {},
   "outputs": [],
   "source": [
    "import pandas as pd"
   ]
  },
  {
   "cell_type": "code",
   "execution_count": 2,
   "id": "1b2a07bf-cfd7-48c8-82c9-5b11b4811c70",
   "metadata": {},
   "outputs": [],
   "source": [
    "# Change file path as needed\n",
    "\n",
    "txt_input = r\"/Users/ronnitrana/ACSEF/glioma-grading/data/Firebrowse/Lower-Grade Glioma/mRNAseq Analyses/RSEM_genes_normalized.txt\" \n",
    "csv_output = r\"/Users/ronnitrana/ACSEF/glioma-grading/data/Firebrowse/Lower-Grade Glioma/mRNAseq Analyses/RSEM_genes_normalized.csv\""
   ]
  },
  {
   "cell_type": "code",
   "execution_count": null,
   "id": "368511ca-476d-4c04-bcef-c5d6cbf6547e",
   "metadata": {},
   "outputs": [],
   "source": [
    "df = pd.read_csv(txt_input)\n",
    "df.to_csv(csv_output, index=None)"
   ]
  }
 ],
 "metadata": {
  "kernelspec": {
   "display_name": "Python 3 (ipykernel)",
   "language": "python",
   "name": "python3"
  },
  "language_info": {
   "codemirror_mode": {
    "name": "ipython",
    "version": 3
   },
   "file_extension": ".py",
   "mimetype": "text/x-python",
   "name": "python",
   "nbconvert_exporter": "python",
   "pygments_lexer": "ipython3",
   "version": "3.11.7"
  }
 },
 "nbformat": 4,
 "nbformat_minor": 5
}
