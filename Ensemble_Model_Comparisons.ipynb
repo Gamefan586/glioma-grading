{
 "cells": [
  {
   "cell_type": "code",
   "execution_count": 3,
   "id": "8ad645da-5620-4bd4-9124-7343189f31e1",
   "metadata": {},
   "outputs": [],
   "source": [
    "import numpy as np\n",
    "import pandas as pd\n",
    "from sklearn.model_selection import train_test_split, cross_val_score\n",
    "from sklearn.linear_model import LogisticRegression\n",
    "from sklearn.svm import SVC\n",
    "from sklearn.neighbors import KNeighborsClassifier\n",
    "from sklearn.ensemble import RandomForestClassifier, AdaBoostClassifier\n",
    "from xverse.ensemble import VotingSelector"
   ]
  },
  {
   "cell_type": "code",
   "execution_count": null,
   "id": "b2fd6b75-14dd-426f-b989-6920a3399be3",
   "metadata": {},
   "outputs": [],
   "source": [
    "data = pd.read_csv(\"/Users/ronnitrana/ACSEF/Datasets/UCI/glioma+grading+clinical+and+mutation+features+dataset.csv"
   ]
  }
 ],
 "metadata": {
  "kernelspec": {
   "display_name": "Python 3 (ipykernel)",
   "language": "python",
   "name": "python3"
  },
  "language_info": {
   "codemirror_mode": {
    "name": "ipython",
    "version": 3
   },
   "file_extension": ".py",
   "mimetype": "text/x-python",
   "name": "python",
   "nbconvert_exporter": "python",
   "pygments_lexer": "ipython3",
   "version": "3.11.5"
  }
 },
 "nbformat": 4,
 "nbformat_minor": 5
}
